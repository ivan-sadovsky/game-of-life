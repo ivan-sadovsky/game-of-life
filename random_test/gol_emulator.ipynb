{
 "cells": [
  {
   "cell_type": "code",
   "execution_count": null,
   "id": "streaming-surprise",
   "metadata": {},
   "outputs": [],
   "source": [
    "from IPython.display import clear_output\n",
    "import numpy as np\n",
    "import numba\n",
    "import time\n",
    "from matplotlib import pyplot as plt\n",
    "\n",
    "%matplotlib inline"
   ]
  },
  {
   "cell_type": "code",
   "execution_count": null,
   "id": "medieval-comment",
   "metadata": {},
   "outputs": [],
   "source": [
    "LED_COLS = 8\n",
    "LED_ROWS = 8"
   ]
  },
  {
   "cell_type": "code",
   "execution_count": null,
   "id": "defensive-display",
   "metadata": {},
   "outputs": [],
   "source": [
    "@numba.njit(fastmath=True)\n",
    "def calculate_state_next(state, state_next):\n",
    "    shape_x, shape_y = state.shape\n",
    "    for x in range(shape_x):\n",
    "        for y in range(shape_y):\n",
    "            nn = 0\n",
    "            if x > 0:\n",
    "                if y > 0: nn += state[x-1,y-1]\n",
    "                nn += state[x-1,y]\n",
    "                if y < shape_y-1: nn += state[x-1,y+1]\n",
    "\n",
    "            if y > 0: nn += state[x,y-1]\n",
    "            if y < shape_y-1: nn += state[x,y+1]\n",
    "\n",
    "            if x < shape_x-1:\n",
    "                if y > 0: nn += state[x+1,y-1]\n",
    "                nn += state[x+1,y]\n",
    "                if y < shape_y-1: nn += state[x+1,y+1]\n",
    "            \n",
    "            if state[x,y] == 0:\n",
    "                state_next[x,y] = 1 if nn == 3 else 0\n",
    "            else:\n",
    "                state_next[x,y] = 1 if nn in (2, 3) else 0;\n",
    "\n",
    "@numba.njit(fastmath=True) # parallel=True\n",
    "def update_state(state, steps=1):\n",
    "    state_tmp = np.empty_like(state)\n",
    "    for k in range(steps):\n",
    "        calculate_state_next(state, state_tmp)\n",
    "        # swapping pointers\n",
    "        state_tmp2 = state; state = state_tmp; state_tmp = state_tmp2\n",
    "    if steps % 2 == 1:\n",
    "        state_tmp[:] = state[:]\n",
    "\n",
    "@numba.njit(fastmath=True, parallel=True) # parallel=True\n",
    "def update_states(states, steps=1):\n",
    "    n_states = states.shape[0]\n",
    "    for n in numba.prange(n_states):\n",
    "        update_state(states[n], steps)"
   ]
  },
  {
   "cell_type": "code",
   "execution_count": null,
   "id": "comfortable-civilian",
   "metadata": {},
   "outputs": [],
   "source": [
    "def plot_state(state):\n",
    "    clear_output(wait=True)\n",
    "    plt.figure(figsize=(6,6))\n",
    "    plt.pcolormesh(state, cmap='nipy_spectral', edgecolors='k', lw=6, vmin=0, vmax=1.5)\n",
    "    plt.axis('off')\n",
    "    plt.show();\n",
    "\n",
    "state = np.random.randint(2, size=(LED_COLS, LED_ROWS), dtype=np.uint8)\n",
    "# state[:] = 0; state[0::2,:] = 1\n",
    "# state_next = np.empty_like(state)\n",
    "while True:\n",
    "    try:\n",
    "#         calculate_state_next(state, state_next)\n",
    "#         tmp = state; state = state_next; state_next = tmp\n",
    "        update_state(state, steps=1)\n",
    "        plot_state(state)\n",
    "        time.sleep(1)\n",
    "    except KeyboardInterrupt:\n",
    "        break"
   ]
  },
  {
   "cell_type": "code",
   "execution_count": null,
   "id": "pressing-negative",
   "metadata": {},
   "outputs": [],
   "source": [
    "steps = np.power(2, np.arange(1,16+1)).astype(np.uint32)\n",
    "dt = []\n",
    "for steps_ in steps:\n",
    "    time0 = time.time()\n",
    "    \n",
    "    state = np.random.randint(2, size=(LED_COLS, LED_ROWS), dtype=np.uint8)\n",
    "    # state_next = np.empty_like(state)\n",
    "    # for k in range(N_):\n",
    "    #     calculate_state_next(state, state_next)\n",
    "    #     tmp = state; state = state_next; state_next = tmp\n",
    "    update_state(state, steps_)\n",
    "    \n",
    "    dt_ = time.time() - time0\n",
    "    dt.append(dt_)\n",
    "    if steps_ == steps[-1]:\n",
    "        print('%d takes = %g sec' % (steps_, dt_))\n",
    "plt.plot(steps, dt, 'o-')\n",
    "plt.xscale('log');  plt.yscale('log')\n",
    "plt.xlabel('steps');  plt.ylabel('time [sec]')\n",
    "plt.show()\n",
    "\n",
    "# python code: 32768 takes = 12.5371 sec\n",
    "# @numba.njit: 32768 takes = 0.0366704 sec\n",
    "# @numba.njit: 32768 takes = 0.037045 sec\n",
    "# @numba.njit(fastmath=True): 32768 takes = 0.0372975 sec\n",
    "# loop inside numba: 32768 takes = 0.0162888 sec"
   ]
  },
  {
   "cell_type": "code",
   "execution_count": null,
   "id": "thousand-latter",
   "metadata": {},
   "outputs": [],
   "source": [
    "steps = 2**16\n",
    "n_states = np.power(2, np.arange(1,11)).astype(np.uint32)\n",
    "dt = []\n",
    "for n_states_ in n_states:\n",
    "    time0 = time.time()\n",
    "    \n",
    "    states = np.random.randint(2, size=(n_states_, LED_COLS, LED_ROWS), dtype=np.uint8)\n",
    "    update_states(states, steps)\n",
    "    \n",
    "    dt_ = time.time() - time0\n",
    "    dt.append(dt_)\n",
    "    print('n_states=%d takes = %g sec' % (n_states_, dt_))\n",
    "plt.plot(n_states, dt, 'o-')\n",
    "plt.xscale('log');  plt.yscale('log')\n",
    "plt.xlabel('n_states');  plt.ylabel('time [sec]')\n",
    "plt.show()"
   ]
  },
  {
   "cell_type": "code",
   "execution_count": null,
   "id": "separate-chosen",
   "metadata": {},
   "outputs": [],
   "source": []
  }
 ],
 "metadata": {
  "kernelspec": {
   "display_name": "Python 3",
   "language": "python",
   "name": "python3"
  },
  "language_info": {
   "codemirror_mode": {
    "name": "ipython",
    "version": 3
   },
   "file_extension": ".py",
   "mimetype": "text/x-python",
   "name": "python",
   "nbconvert_exporter": "python",
   "pygments_lexer": "ipython3",
   "version": "3.8.6"
  }
 },
 "nbformat": 4,
 "nbformat_minor": 5
}
